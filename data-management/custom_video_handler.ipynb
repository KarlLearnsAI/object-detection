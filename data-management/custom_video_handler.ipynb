{
 "cells": [
  {
   "attachments": {},
   "cell_type": "markdown",
   "metadata": {},
   "source": [
    "# Crop Video - (e.g. 1920x1280 -> 640x640)"
   ]
  },
  {
   "cell_type": "code",
   "execution_count": 9,
   "metadata": {},
   "outputs": [],
   "source": [
    "video_path = '/Users/johannes/Code/Work/Videos/Projects/Werbevideo_1280x720.mp4'\n",
    "output_path = '/Users/johannes/Code/Work/Videos/Results/Rescaling/Werbevideo_1280x720_resized.mp4'\n",
    "inferred_path = '/Users/johannes/Code/YOLO/YOLOv8/yolov8/inference_output/predict7/Werbevideo_side_short_resized.mp4'\n",
    "full_size_inferred_path = '/Users/johannes/Code/Work/Videos/Results/YOLOv8/Werbevideo_1280x720_resized_full_size_inferred.mp4'\n",
    "original_width = 1920  # Replace with the original width\n",
    "original_height = 1080  # Replace with the original height\n",
    "new_width = 640\n",
    "new_height = 640"
   ]
  },
  {
   "cell_type": "code",
   "execution_count": 6,
   "metadata": {},
   "outputs": [
    {
     "name": "stdout",
     "output_type": "stream",
     "text": [
      "Video resized and saved to /Users/johannes/Code/Work/Videos/Results/Rescaling/Werbevideo_1280x720_resized.mp4\n"
     ]
    }
   ],
   "source": [
    "import cv2\n",
    "\n",
    "def resize_video(input_file, output_file, new_size=(640, 640)):\n",
    "    \"\"\"\n",
    "    Resizes a video to a specified size.\n",
    "\n",
    "    Args:\n",
    "        input_file: Path to the input video file.\n",
    "        output_file: Path to the output video file.\n",
    "        new_size: Tuple of (width, height) for the desired output size.\n",
    "                  Defaults to (640, 640) for square output.\n",
    "    \"\"\"\n",
    "\n",
    "    cap = cv2.VideoCapture(input_file)\n",
    "\n",
    "    if not cap.isOpened():\n",
    "        print(\"Error opening video file!\")\n",
    "        return\n",
    "\n",
    "    # Get video properties (frame width and height)\n",
    "    width = int(cap.get(cv2.CAP_PROP_FRAME_WIDTH))\n",
    "    height = int(cap.get(cv2.CAP_PROP_FRAME_HEIGHT))\n",
    "\n",
    "    # Define video writer with the specified size\n",
    "    fourcc = cv2.VideoWriter_fourcc(*'mp4v')  # Change codec if needed\n",
    "    out = cv2.VideoWriter(output_file, fourcc, cap.get(cv2.CAP_PROP_FPS), new_size)\n",
    "\n",
    "    while True:\n",
    "        ret, frame = cap.read()\n",
    "        if not ret:\n",
    "            break\n",
    "\n",
    "        # Resize frame to the specified size\n",
    "        resized_frame = cv2.resize(frame, new_size, interpolation=cv2.INTER_AREA)\n",
    "\n",
    "        # Write resized frame to output video\n",
    "        out.write(resized_frame)\n",
    "\n",
    "    cap.release()\n",
    "    out.release()\n",
    "    cv2.destroyAllWindows()\n",
    "\n",
    "    print(f\"Video resized and saved to {output_file}\")\n",
    "\n",
    "resize_video(video_path, output_path, (new_width, new_height))\n"
   ]
  },
  {
   "attachments": {},
   "cell_type": "markdown",
   "metadata": {},
   "source": [
    "# Upscale back to original size"
   ]
  },
  {
   "cell_type": "code",
   "execution_count": 10,
   "metadata": {},
   "outputs": [
    {
     "name": "stdout",
     "output_type": "stream",
     "text": [
      "Video upscaled and saved to /Users/johannes/Code/Work/Videos/Results/YOLOv8/Werbevideo_1280x720_resized_full_size_inferred.mp4\n"
     ]
    }
   ],
   "source": [
    "import cv2\n",
    "\n",
    "def upscale_video(input_file, output_file, target_size=(1920, 1080)):\n",
    "  \"\"\"\n",
    "  Upscales a video to a specified size.\n",
    "\n",
    "  Args:\n",
    "      input_file: Path to the input video file (previously resized).\n",
    "      output_file: Path to the output video file.\n",
    "      target_size: Tuple of (width, height) for the desired upscaled size.\n",
    "                    Defaults to (1920, 1280).\n",
    "  \"\"\"\n",
    "\n",
    "  cap = cv2.VideoCapture(input_file)\n",
    "\n",
    "  if not cap.isOpened():\n",
    "    print(\"Error opening video file!\")\n",
    "    return\n",
    "\n",
    "  # Get video properties\n",
    "  width = int(cap.get(cv2.CAP_PROP_FRAME_WIDTH))\n",
    "  height = int(cap.get(cv2.CAP_PROP_FRAME_HEIGHT))\n",
    "\n",
    "  # Define video writer with target size\n",
    "  fourcc = cv2.VideoWriter_fourcc(*'mp4v')  # Change codec if needed\n",
    "  out = cv2.VideoWriter(output_file, fourcc, cap.get(cv2.CAP_PROP_FPS), target_size)\n",
    "\n",
    "  while True:\n",
    "    ret, frame = cap.read()\n",
    "    if not ret:\n",
    "      break\n",
    "\n",
    "    # Resize frame to target size (upscaling)\n",
    "    resized_frame = cv2.resize(frame, target_size, interpolation=cv2.INTER_CUBIC)\n",
    "\n",
    "    # Write resized frame to output video\n",
    "    out.write(resized_frame)\n",
    "\n",
    "  cap.release()\n",
    "  out.release()\n",
    "  cv2.destroyAllWindows()\n",
    "\n",
    "  print(f\"Video upscaled and saved to {output_file}\")\n",
    "\n",
    "upscale_video(inferred_path, full_size_inferred_path, (original_width, original_height))"
   ]
  }
 ],
 "metadata": {
  "kernelspec": {
   "display_name": "labelenv",
   "language": "python",
   "name": "python3"
  },
  "language_info": {
   "codemirror_mode": {
    "name": "ipython",
    "version": 3
   },
   "file_extension": ".py",
   "mimetype": "text/x-python",
   "name": "python",
   "nbconvert_exporter": "python",
   "pygments_lexer": "ipython3",
   "version": "3.11.8 (main, Feb  6 2024, 21:21:21) [Clang 15.0.0 (clang-1500.1.0.2.5)]"
  },
  "orig_nbformat": 4,
  "vscode": {
   "interpreter": {
    "hash": "fec270970807129a3ef0efad8dff96349edad8822c62b21e22892e5b2c5ff594"
   }
  }
 },
 "nbformat": 4,
 "nbformat_minor": 2
}
