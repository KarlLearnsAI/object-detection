{
 "cells": [
  {
   "attachments": {},
   "cell_type": "markdown",
   "metadata": {},
   "source": [
    "# Mix Datasets"
   ]
  },
  {
   "attachments": {},
   "cell_type": "markdown",
   "metadata": {},
   "source": [
    "### (add images to other folder and append images + bboxes)"
   ]
  },
  {
   "cell_type": "code",
   "execution_count": 1,
   "metadata": {},
   "outputs": [],
   "source": [
    "data = [\n",
    "    {\n",
    "      \"id\": 0,\n",
    "      \"image_id\": 0,\n",
    "      \"category_id\": 0,\n",
    "      \"segmentation\": [],\n",
    "      \"bbox\": [\n",
    "        243.62301101591186,\n",
    "        232.5690194478444,\n",
    "        145.70379436964492,\n",
    "        377.4024207806337\n",
    "      ],\n",
    "      \"ignore\": 0,\n",
    "      \"iscrowd\": 0,\n",
    "      \"area\": 1409307.0213891154\n",
    "    },\n",
    "    {\n",
    "      \"id\": 1,\n",
    "      \"image_id\": 0,\n",
    "      \"category_id\": 1,\n",
    "      \"segmentation\": [],\n",
    "      \"bbox\": [\n",
    "        280.44063647490816,\n",
    "        151.79654562763497,\n",
    "        99.48592411260707,\n",
    "        323.08989528083777\n",
    "      ],\n",
    "      \"ignore\": 0,\n",
    "      \"iscrowd\": 0,\n",
    "      \"area\": 823787.2887792907\n",
    "    },\n",
    "    {\n",
    "      \"id\": 2,\n",
    "      \"image_id\": 1,\n",
    "      \"category_id\": 1,\n",
    "      \"segmentation\": [],\n",
    "      \"bbox\": [\n",
    "        288.27417380660955,\n",
    "        43.171494628042964,\n",
    "        81.46878824969401,\n",
    "        303.59309125526994\n",
    "      ],\n",
    "      \"ignore\": 0,\n",
    "      \"iscrowd\": 0,\n",
    "      \"area\": 633888.99712205\n",
    "    }\n",
    "]"
   ]
  },
  {
   "cell_type": "code",
   "execution_count": 5,
   "metadata": {},
   "outputs": [],
   "source": [
    "def update_data(data):\n",
    "  new_data = []\n",
    "  current_id = 949\n",
    "  for item in data:\n",
    "    new_item = item.copy()\n",
    "    new_item[\"id\"] = current_id\n",
    "    new_item[\"image_id\"] += 480\n",
    "    current_id += 1\n",
    "    new_data.append(new_item)\n",
    "  return new_data\n",
    "\n",
    "updated_data = update_data(data)\n",
    "\n",
    "with open(\"other.txt\", \"w\") as outfile:\n",
    "  import json\n",
    "  json.dump(updated_data, outfile)"
   ]
  },
  {
   "cell_type": "code",
   "execution_count": null,
   "metadata": {},
   "outputs": [],
   "source": []
  }
 ],
 "metadata": {
  "kernelspec": {
   "display_name": "labelenv",
   "language": "python",
   "name": "python3"
  },
  "language_info": {
   "codemirror_mode": {
    "name": "ipython",
    "version": 3
   },
   "file_extension": ".py",
   "mimetype": "text/x-python",
   "name": "python",
   "nbconvert_exporter": "python",
   "pygments_lexer": "ipython3",
   "version": "3.11.8 (main, Feb  6 2024, 21:21:21) [Clang 15.0.0 (clang-1500.1.0.2.5)]"
  },
  "orig_nbformat": 4,
  "vscode": {
   "interpreter": {
    "hash": "fec270970807129a3ef0efad8dff96349edad8822c62b21e22892e5b2c5ff594"
   }
  }
 },
 "nbformat": 4,
 "nbformat_minor": 2
}
